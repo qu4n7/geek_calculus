{
 "cells": [
  {
   "cell_type": "code",
   "execution_count": 6,
   "metadata": {},
   "outputs": [],
   "source": [
    "from sympy import *\n",
    "import sys\n",
    "import numpy as np\n",
    "from mpmath import *\n",
    "sys.displayhook = pprint\n",
    "x,y,z = Symbol('x'), Symbol('y'), Symbol('z')"
   ]
  },
  {
   "cell_type": "markdown",
   "metadata": {},
   "source": [
    "### Найти неопределенный интеграл:\n",
    "$ \\int {(2x^2 - 2x - 1 + sinx - cosx + lnx + e^x)}dx $"
   ]
  },
  {
   "cell_type": "markdown",
   "metadata": {},
   "source": [
    "$ \\int {(2x^2 - 2x - 1 + sinx - cosx + lnx + e^x)}dx = $\n",
    "$ = \\int{2x^2}dx - \\int{2x}dx - \\int{1}dx + \\int{sinx}dx - \\int{cosx}dx + \\int{lnx}dx + \\int{e^x}dx = $\n",
    "$ = \\frac{2}{3}x^3 - x^2 - x - cosx - sinx + x + xlog(x) - x + e^x + C = $ \n",
    "$ = \\frac{2}{3}x^3 - x^2 - cosx - sinx + xlog(x) - x + e^x + C $ "
   ]
  },
  {
   "cell_type": "markdown",
   "metadata": {},
   "source": [
    "### Найти неопределенный интеграл:\n",
    "$ \\int {(2x + 6*x*z^2 - 5x^2*y - 3lnz)}dx $"
   ]
  },
  {
   "cell_type": "markdown",
   "metadata": {},
   "source": [
    "$ \\int {(2x + 6*x*z^2 - 5x^2*y - 3lnz)}dx = $\n",
    "\n",
    "$ \\int{2x}dx + \\int{(6*x*z^2)}dx - \\int{(5x^2*y)}dx - \\int{(3lnz)}dx = $\n",
    "\n",
    "$ = (x^2 + 3*z^2*x^2 - \\frac{5}{3}*y*x^3 - 3lnz*x) + C $"
   ]
  },
  {
   "cell_type": "markdown",
   "metadata": {},
   "source": [
    "### Найти определенный интеграл:\n",
    "$ \\int_0^\\pi {3x^2 sin(2x)} dx $"
   ]
  },
  {
   "cell_type": "markdown",
   "metadata": {},
   "source": [
    "$ \\int_0^\\pi{3x^2}dx \\int_0^\\pi {sin(2x)} dx $\n",
    "\n",
    "$ \\int_0^\\pi {x^3} |_0^{\\pi} - \\frac{1}{2}sin(2x) |_0^{\\pi} dx $\n",
    "\n",
    "$  \\pi^3 - 0 - 0.5 * (sin(2*\\pi) - sin(0)  $ \n",
    "\n",
    "$ \\pi^3 + 2.45 $"
   ]
  }
 ],
 "metadata": {
  "kernelspec": {
   "display_name": "Python 3",
   "language": "python",
   "name": "python3"
  },
  "language_info": {
   "codemirror_mode": {
    "name": "ipython",
    "version": 3
   },
   "file_extension": ".py",
   "mimetype": "text/x-python",
   "name": "python",
   "nbconvert_exporter": "python",
   "pygments_lexer": "ipython3",
   "version": "3.7.3"
  }
 },
 "nbformat": 4,
 "nbformat_minor": 2
}
