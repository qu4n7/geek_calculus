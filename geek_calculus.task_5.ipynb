{
 "cells": [
  {
   "cell_type": "code",
   "execution_count": 24,
   "metadata": {},
   "outputs": [],
   "source": [
    "import numpy as np\n",
    "import matplotlib.pyplot as plt\n",
    "import sympy\n",
    "from sympy import *\n",
    "from mpmath import *"
   ]
  },
  {
   "cell_type": "code",
   "execution_count": 4,
   "metadata": {},
   "outputs": [],
   "source": [
    "x, y, z = symbols('x y z')"
   ]
  },
  {
   "cell_type": "markdown",
   "metadata": {},
   "source": [
    "## Найти производные:"
   ]
  },
  {
   "cell_type": "markdown",
   "metadata": {},
   "source": [
    "#### $\\sin(x) * \\cos(x)$"
   ]
  },
  {
   "cell_type": "markdown",
   "metadata": {},
   "source": [
    "$ (sin(x) * cos(x))' = sin(x)' * cos(x) + sin(x) * cos(x)' = cos(x) * cos(x) + sin(x) * - sin(x) = $\n",
    "\n",
    "$ = cos^2(x) - sin^2(x) = 2*cos^2(x) - 1 $"
   ]
  },
  {
   "cell_type": "code",
   "execution_count": 5,
   "metadata": {},
   "outputs": [
    {
     "data": {
      "text/latex": [
       "$\\displaystyle - \\sin^{2}{\\left(x \\right)} + \\cos^{2}{\\left(x \\right)}$"
      ],
      "text/plain": [
       "-sin(x)**2 + cos(x)**2"
      ]
     },
     "execution_count": 5,
     "metadata": {},
     "output_type": "execute_result"
    }
   ],
   "source": [
    "# проверяю через либу\n",
    "diff(sin(x) * cos(x), x)"
   ]
  },
  {
   "cell_type": "markdown",
   "metadata": {},
   "source": [
    "#### $\\ln(2x - 1)^3 $"
   ]
  },
  {
   "cell_type": "markdown",
   "metadata": {},
   "source": [
    "$ (ln(2x-1)^3)' = 3*ln(2x-1)^2 *\\frac{1}{2x-1} * 2 = \\frac{6ln(2x-1)^2}{2x-1} $"
   ]
  },
  {
   "cell_type": "code",
   "execution_count": 7,
   "metadata": {},
   "outputs": [
    {
     "data": {
      "text/latex": [
       "$\\displaystyle \\frac{6 \\log{\\left(2 x - 1 \\right)}^{2}}{2 x - 1}$"
      ],
      "text/plain": [
       "6*log(2*x - 1)**2/(2*x - 1)"
      ]
     },
     "execution_count": 7,
     "metadata": {},
     "output_type": "execute_result"
    }
   ],
   "source": [
    "# проверяю через либу\n",
    "diff(ln(2*x -1)**3, x)"
   ]
  },
  {
   "cell_type": "markdown",
   "metadata": {},
   "source": [
    "#### $\\sqrt{sin^2(ln(x^3))}$"
   ]
  },
  {
   "cell_type": "markdown",
   "metadata": {},
   "source": [
    "$ (\\sqrt{sin^2(ln(x^3))})' = \\frac{1}{2\\sqrt{x}} * 2sin(ln(x^3)) * cos(ln(x^3)) * \\frac{1}{x^3} * 2x^2  = $\n",
    "\n",
    "$ = \\frac{sin(ln(x^3))}{\\sqrt{x}} * cos(ln(x^3)) * \\frac{2}{x} $"
   ]
  },
  {
   "cell_type": "code",
   "execution_count": 14,
   "metadata": {},
   "outputs": [
    {
     "data": {
      "text/latex": [
       "$\\displaystyle \\frac{3 \\sqrt{\\sin^{2}{\\left(\\log{\\left(x^{3} \\right)} \\right)}} \\cos{\\left(\\log{\\left(x^{3} \\right)} \\right)}}{x \\sin{\\left(\\log{\\left(x^{3} \\right)} \\right)}}$"
      ],
      "text/plain": [
       "3*sqrt(sin(log(x**3))**2)*cos(log(x**3))/(x*sin(log(x**3)))"
      ]
     },
     "execution_count": 14,
     "metadata": {},
     "output_type": "execute_result"
    }
   ],
   "source": [
    "# проверяю через либу\n",
    "diff(sqrt(sin(ln(x**3))**2), x) \n",
    "# я ошбибся, но не знаю, где"
   ]
  },
  {
   "cell_type": "markdown",
   "metadata": {},
   "source": [
    "#### $ \\frac{x^4}{ln(x)} $"
   ]
  },
  {
   "cell_type": "markdown",
   "metadata": {},
   "source": [
    "$ (\\frac{x^4}{ln(x)})' = \\frac{(x^4)' ln(x) - x^4 ln(x)'}{ln^2(x)} = $ \n",
    "\n",
    "$= \\frac{4x^3 ln(x) - \\frac{x^4}{x}}{ln^2(x)} = \\frac{4x^3 ln(x) - x^3}{ln^2(x)} $"
   ]
  },
  {
   "cell_type": "code",
   "execution_count": 15,
   "metadata": {},
   "outputs": [
    {
     "data": {
      "text/latex": [
       "$\\displaystyle \\frac{4 x^{3}}{\\log{\\left(x \\right)}} - \\frac{x^{3}}{\\log{\\left(x \\right)}^{2}}$"
      ],
      "text/plain": [
       "4*x**3/log(x) - x**3/log(x)**2"
      ]
     },
     "execution_count": 15,
     "metadata": {},
     "output_type": "execute_result"
    }
   ],
   "source": [
    "# проверяю через либу\n",
    "diff(x**4/ln(x), x) \n",
    "# опять где то ошибся, скорее всего, где то в том, что это производная сложнйо функции и надо взять\n",
    "# производную от ln(x), но не уверен"
   ]
  },
  {
   "cell_type": "markdown",
   "metadata": {},
   "source": [
    "## найти выражение производной функции и ее значение в точке"
   ]
  },
  {
   "cell_type": "markdown",
   "metadata": {},
   "source": [
    "#### $ cos(x^2 + 3x) , x_0 = \\sqrt{\\pi} $"
   ]
  },
  {
   "cell_type": "markdown",
   "metadata": {},
   "source": [
    "$ cos(x^2 + 3x)' = -sin(x^2 + 3x) * (x^2 + 3x)' = -sin(x^2 + 3x) * (2x + 3) $ "
   ]
  },
  {
   "cell_type": "code",
   "execution_count": 17,
   "metadata": {},
   "outputs": [
    {
     "data": {
      "text/plain": [
       "9.0950702132754"
      ]
     },
     "execution_count": 17,
     "metadata": {},
     "output_type": "execute_result"
    }
   ],
   "source": [
    "# решаю, что получается через либу numpy , т.к. вспомнить / узнать ,как находить аналитически \n",
    "# сложные тригонометрические функции так быстро не могу\n",
    "- np.sin(np.sqrt(np.pi) + 3 * np.pi) * (2 * np.pi + 3)"
   ]
  },
  {
   "cell_type": "markdown",
   "metadata": {},
   "source": [
    "#### $ \\frac{x^3 - x^2 - x - 1}{1 + 2x + 3x^2 - 4x^3} , x_0 = 1 $"
   ]
  },
  {
   "cell_type": "code",
   "execution_count": 23,
   "metadata": {},
   "outputs": [
    {
     "data": {
      "text/latex": [
       "$\\displaystyle \\frac{3 x^{2} - 2 x - 1}{- 4 x^{3} + 3 x^{2} + 2 x + 1} + \\frac{\\left(12 x^{2} - 6 x - 2\\right) \\left(x^{3} - x^{2} - x - 1\\right)}{\\left(- 4 x^{3} + 3 x^{2} + 2 x + 1\\right)^{2}}$"
      ],
      "text/plain": [
       "(3*x**2 - 2*x - 1)/(-4*x**3 + 3*x**2 + 2*x + 1) + (12*x**2 - 6*x - 2)*(x**3 - x**2 - x - 1)/(-4*x**3 + 3*x**2 + 2*x + 1)**2"
      ]
     },
     "execution_count": 23,
     "metadata": {},
     "output_type": "execute_result"
    }
   ],
   "source": [
    "# наверно, можно как то преобразовать, но у меня нет практики, поэтому пущу в sympy\n",
    "diff((x**3 - x**2 - x - 1) / (1 + 2*x +3*x**2 - 4*x**3), x)"
   ]
  },
  {
   "cell_type": "markdown",
   "metadata": {},
   "source": [
    "подставляю x=1 в уравнение, получаю:\n",
    "\n",
    "- 2"
   ]
  },
  {
   "cell_type": "markdown",
   "metadata": {},
   "source": [
    "## исследовать ряд на сходимость, используя признак д’Аламбера"
   ]
  },
  {
   "cell_type": "markdown",
   "metadata": {},
   "source": [
    "#### $ \\sum^{\\infty}_{n=1}{\\frac{n^n}{(n!)^2}} $"
   ]
  },
  {
   "cell_type": "code",
   "execution_count": 41,
   "metadata": {},
   "outputs": [
    {
     "name": "stdout",
     "output_type": "stream",
     "text": [
      "0.0007594058428126623\n",
      "0.0\n",
      "0.0\n"
     ]
    }
   ],
   "source": [
    "# найду предел:\n",
    "import math\n",
    "x1, x2, x3 = 10, 1000, 10000\n",
    "print((x1**x1 / math.factorial(x1)**2))\n",
    "print((x2**x2 / math.factorial(x2)**2))\n",
    "print((x3**x3 / math.factorial(x3)**2))"
   ]
  },
  {
   "cell_type": "markdown",
   "metadata": {},
   "source": [
    "lim < 1 -> ряд сходится"
   ]
  },
  {
   "cell_type": "markdown",
   "metadata": {},
   "source": [
    "## исследовать ряд на сходимость, используя радикальный признак Коши"
   ]
  },
  {
   "cell_type": "markdown",
   "metadata": {},
   "source": [
    "#### $ \\sum^{\\infty}_{n=1}{\\frac{n}{2^n}} $"
   ]
  },
  {
   "cell_type": "code",
   "execution_count": 42,
   "metadata": {},
   "outputs": [
    {
     "name": "stdout",
     "output_type": "stream",
     "text": [
      "0.4875816957196082\n",
      "0.0\n",
      "0.0\n"
     ]
    }
   ],
   "source": [
    "# найду корень степени n для предела:\n",
    "import math\n",
    "x1, x2, x3 = 10, 1000, 10000\n",
    "print((x1**x1 / math.factorial(x1)**2)**(1/x1))\n",
    "print((x2**x2 / math.factorial(x2)**2)**(1/x2))\n",
    "print((x3**x3 / math.factorial(x3)**2)**(1/x3))"
   ]
  },
  {
   "cell_type": "markdown",
   "metadata": {},
   "source": [
    "радикальный lim Коши < 1 -> ряд сходится"
   ]
  },
  {
   "cell_type": "markdown",
   "metadata": {},
   "source": [
    "## исследовать ряд на сходимость, используя признак Лейбница"
   ]
  },
  {
   "cell_type": "markdown",
   "metadata": {},
   "source": [
    "#### $ \\sum^{\\infty}_{n=1}{\\frac{-1^n}{n + \\ln{n}}} $"
   ]
  },
  {
   "cell_type": "code",
   "execution_count": 74,
   "metadata": {},
   "outputs": [
    {
     "name": "stdout",
     "output_type": "stream",
     "text": [
      "-1.0\n",
      "0.37131279241563214\n",
      "-0.24398501970162229\n",
      "0.18565639620781607\n",
      "-0.1512987962438887\n",
      "0.1283407173885813\n",
      "-0.11178292463686323\n",
      "0.09921184580166138\n",
      "-0.0893078452694477\n"
     ]
    }
   ],
   "source": [
    "# проверяю на знакочередование:\n",
    "n = range(1,10)\n",
    "y=[]\n",
    "for i in n:\n",
    "    y.append(((-1)**i) / (i + np.log(i)))\n",
    "    print(((-1)**i) / (i + np.log(i)))"
   ]
  },
  {
   "cell_type": "code",
   "execution_count": 81,
   "metadata": {},
   "outputs": [
    {
     "name": "stdout",
     "output_type": "stream",
     "text": [
      "9.999998157932265e-09\n",
      "9.999997006640276e-09\n",
      "9.999930922924377e-09\n"
     ]
    }
   ],
   "source": [
    "# ищу предел модуя, убираю знак\n",
    "x1, x2, x3 = 1e+8, 1e+13, 1e+300\n",
    "print(((-1)**x1) / (x1 + np.log(x1)))\n",
    "print(((-1)**x2) / (x1 + np.log(x2)))\n",
    "print(((-1)**x3) / (x1 + np.log(x3)))"
   ]
  },
  {
   "cell_type": "markdown",
   "metadata": {},
   "source": [
    "члены ряда убывают по модулю -> ряд сходится"
   ]
  },
  {
   "cell_type": "code",
   "execution_count": null,
   "metadata": {},
   "outputs": [],
   "source": []
  }
 ],
 "metadata": {
  "kernelspec": {
   "display_name": "Python 3",
   "language": "python",
   "name": "python3"
  },
  "language_info": {
   "codemirror_mode": {
    "name": "ipython",
    "version": 3
   },
   "file_extension": ".py",
   "mimetype": "text/x-python",
   "name": "python",
   "nbconvert_exporter": "python",
   "pygments_lexer": "ipython3",
   "version": "3.7.3"
  }
 },
 "nbformat": 4,
 "nbformat_minor": 2
}
